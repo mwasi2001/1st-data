{
  "nbformat": 4,
  "nbformat_minor": 0,
  "metadata": {
    "colab": {
      "provenance": [],
      "collapsed_sections": [
        "brNoKOXPJXto",
        "YpYmphhZBgZ3",
        "zDqMQ7b7Who7",
        "32skvSalOwi-",
        "LEMGaa2ZOwMz",
        "zcL-5aVnNe6d",
        "V_4Fu_g4T1yt",
        "kAX9rxLLWD-V",
        "viXeWKv3G6_9"
      ],
      "authorship_tag": "ABX9TyOo1wLdFTjemabLcYWUgLix",
      "include_colab_link": true
    },
    "kernelspec": {
      "name": "python3",
      "display_name": "Python 3"
    },
    "language_info": {
      "name": "python"
    }
  },
  "cells": [
    {
      "cell_type": "markdown",
      "metadata": {
        "id": "view-in-github",
        "colab_type": "text"
      },
      "source": [
        "<a href=\"https://colab.research.google.com/github/mwasi2001/1st-data/blob/main/Assignment_5_(OOPs).ipynb\" target=\"_parent\"><img src=\"https://colab.research.google.com/assets/colab-badge.svg\" alt=\"Open In Colab\"/></a>"
      ]
    },
    {
      "cell_type": "markdown",
      "source": [
        "# QUESTION-1\n",
        "\n",
        " **POLYMORPHISM**\n",
        "\n",
        " * polymorphism means` many forms`, and in programming it refers to methods/functions/operators with the same name that can be executed on many objects or classes.\n",
        "\n",
        " `polymorphism is achieved through method overriding and method overloading.`\n",
        "\n",
        " -- Method Overriding\n",
        " -- Mrthod Overloading\n",
        " -- Operator Overloading"
      ],
      "metadata": {
        "id": "brNoKOXPJXto"
      }
    },
    {
      "cell_type": "markdown",
      "source": [
        "**Method Overriding**\n",
        "\n",
        "* This occurs when a subclass(child class) provides a specific implementation of a method that is already defined in its superclass(paraent class).\n",
        "\n",
        "* When a method is called on an object of the subclass, the overridden method in the subclass is executed instead of the superclass method."
      ],
      "metadata": {
        "id": "mNOCfmvfLLH_"
      }
    },
    {
      "cell_type": "code",
      "source": [
        "# Method Overriding\n",
        "class Phone:\n",
        "    def __init__(self, price, brand, camera):\n",
        "        print (\"Inside phone constructor\")\n",
        "        self.__price = price\n",
        "        self.brand = brand\n",
        "        self.camera = camera\n",
        "\n",
        "    def buy(self):\n",
        "        print (\"Buying a phone\")\n",
        "\n",
        "class SmartPhone(Phone):\n",
        "    def buy(self):\n",
        "        print (\"Buying a smartphone\")\n",
        "\n",
        "s=SmartPhone(20000, \"Apple\", 13)\n",
        "\n",
        "s.buy()"
      ],
      "metadata": {
        "colab": {
          "base_uri": "https://localhost:8080/"
        },
        "id": "1vjNrtScKtm2",
        "outputId": "e33001b9-30e1-42ea-d15e-0e572a017af9"
      },
      "execution_count": null,
      "outputs": [
        {
          "output_type": "stream",
          "name": "stdout",
          "text": [
            "Inside phone constructor\n",
            "Buying a smartphone\n"
          ]
        }
      ]
    },
    {
      "cell_type": "markdown",
      "source": [
        "**Mrthod Overloading**\n",
        "\n",
        "* `Python does not support method overloading` in the traditional sense (having multiple methods with the same name but different parameters), you can achieve similar functionality using default parameter values or variable arguments."
      ],
      "metadata": {
        "id": "4fyHwWC0Lt3u"
      }
    },
    {
      "cell_type": "markdown",
      "source": [
        "**Operator overloading**\n",
        "\n",
        "\n",
        "* Operator overloading in Python refers to the ability to define custom behavior for operators"
      ],
      "metadata": {
        "id": "FYzcYBCzMVfI"
      }
    },
    {
      "cell_type": "code",
      "source": [
        "# i gives only few examples\n",
        "\n",
        "\"hello\" + \"world\"\n",
        "\n",
        "4 + 4\n",
        "\n",
        "[1,2] + [3,2]\n",
        "\n",
        "# + operator for string it concate,for integer add, for list marge, one operator different work"
      ],
      "metadata": {
        "colab": {
          "base_uri": "https://localhost:8080/"
        },
        "id": "dGSqbV6RMhr6",
        "outputId": "488784b8-9065-43ab-92da-ed88cdc40b2b"
      },
      "execution_count": null,
      "outputs": [
        {
          "output_type": "execute_result",
          "data": {
            "text/plain": [
              "[1, 2, 3, 2]"
            ]
          },
          "metadata": {},
          "execution_count": 4
        }
      ]
    },
    {
      "cell_type": "code",
      "source": [
        "class Calculator:\n",
        "    def add(self, a, b=0):\n",
        "        return a + b\n",
        "\n",
        "# Polymorphic behavior\n",
        "calc = Calculator()\n",
        "print(calc.add(2, 3))  # Output: 5\n",
        "print(calc.add(2))     # Output: 2 (default value of b is used)\n"
      ],
      "metadata": {
        "colab": {
          "base_uri": "https://localhost:8080/"
        },
        "id": "t32W6ttfMCuc",
        "outputId": "fcce549a-cc3f-4dc0-e00f-09a7a749cc7f"
      },
      "execution_count": null,
      "outputs": [
        {
          "output_type": "stream",
          "name": "stdout",
          "text": [
            "5\n",
            "2\n"
          ]
        }
      ]
    },
    {
      "cell_type": "markdown",
      "source": [
        "#  QUESTION -2\n",
        "\n",
        "* child class to provide a `specific implementation` of a method that is already provided by one of its  parent classes.\n",
        "\n",
        "* When a method in a child has the same name, same parameters or signature and same return type(or sub-type) as a method in its paraent-class, then the method in the child is said to override the method in the paraent-class."
      ],
      "metadata": {
        "id": "YpYmphhZBgZ3"
      }
    },
    {
      "cell_type": "code",
      "source": [
        "# Method Overriding\n",
        "class Phone:\n",
        "    def __init__(self, price, brand, camera):\n",
        "        print (\"Inside phone constructor\")\n",
        "        self.__price = price\n",
        "        self.brand = brand\n",
        "        self.camera = camera\n",
        "\n",
        "    def buy(self):\n",
        "        print (\"Buying a phone\")\n",
        "\n",
        "class SmartPhone(Phone):    # child class has not constructor so that paraent's constructor will call, but method will the child class\n",
        "    def buy(self):\n",
        "        print (\"Buying a smartphone\")\n",
        "\n",
        "s=SmartPhone(20000, \"Apple\", 13)\n",
        "\n",
        "s.buy()"
      ],
      "metadata": {
        "colab": {
          "base_uri": "https://localhost:8080/"
        },
        "id": "cTjUqZSEBgFO",
        "outputId": "0df2ae05-eb5f-4e44-f80b-1bdd52cf55dc"
      },
      "execution_count": null,
      "outputs": [
        {
          "output_type": "stream",
          "name": "stdout",
          "text": [
            "Inside phone constructor\n",
            "Buying a smartphone\n"
          ]
        }
      ]
    },
    {
      "cell_type": "markdown",
      "source": [
        "# QUESTION-3\n",
        "\n",
        "* We can define a `class` using the class keyword followed by the class name.\n",
        "\n",
        "\n",
        "* ClassName class with attributes parametrs , and the method method1(),\n",
        "  method2() to print a method  message. We then create an instance of the ClassName class and access its attributes and methods.\n",
        "\n",
        "\n",
        " syntax for defining a class:"
      ],
      "metadata": {
        "id": "zDqMQ7b7Who7"
      }
    },
    {
      "cell_type": "code",
      "source": [
        "class ClassName:\n",
        "    # Class variables and methods go here\n",
        "\n",
        "    def __init__(self, parameters):\n",
        "        # Constructor method (optional)\n",
        "        # Initialization code goes here\n",
        "        pass\n",
        "\n",
        "    def method1(self, parameters):\n",
        "        # Method definition\n",
        "        pass\n",
        "\n",
        "    def method2(self, parameters):\n",
        "        # Another method definition\n",
        "        pass\n",
        "\n",
        "    # Additional methods and variables can be defined here\n"
      ],
      "metadata": {
        "id": "WrWaO2GrW1fh"
      },
      "execution_count": null,
      "outputs": []
    },
    {
      "cell_type": "markdown",
      "source": [
        "# QUESTION-4\n",
        "\n",
        "\n",
        "* yes! Polymorphism `promotes code reusability` by `allowing objects of different types` to be treated as objects of a common type\n",
        "\n",
        "* Polymorphism is a concept that allows a child class to modify a method inherited from a parent class. `because it lets us create new types of objects without changing the existing ones`"
      ],
      "metadata": {
        "id": "BQGhvKXWNMdt"
      }
    },
    {
      "cell_type": "markdown",
      "source": [
        "# QUESTION-5\n",
        "\n",
        "\n",
        "**Encapsulation**\n",
        "\n",
        "\n",
        "\n",
        "* Encapsulation means containing all important information inside an\n",
        "object, and only exposing selected information to the outside world.\n",
        " In terms of OOP,\n",
        " this means keeping all fields private, and providing public methods for accessing and setting this data if it is needed outside the class.\n",
        "\n",
        "\n",
        "* In Encapsulation importan code are in private, but user can assess with use the function name `getter and setter`\n",
        "\n",
        "  getter show the value of varible which is hide and setter can add the values in varibles\n",
        "\n",
        "* This is done to protect the data from accidental modification, and to provide a clear interface for interacting with the object\n",
        "\n",
        "\n",
        "\n",
        "Below i.g ___varible are in private\n",
        "\n"
      ],
      "metadata": {
        "id": "32skvSalOwi-"
      }
    },
    {
      "cell_type": "code",
      "execution_count": null,
      "metadata": {
        "id": "-85YkgASJMbW"
      },
      "outputs": [],
      "source": [
        "class Banking:\n",
        "    def __init__(self, balance, limit):\n",
        "        self.__balance = 100\n",
        "        self.limit = 1000\n",
        "\n",
        "    def get(self):\n",
        "      return self.__balance\n",
        "\n",
        "    def set(self):\n",
        "      return self.__balance\n",
        "\n",
        "\n",
        "    def __withdraw(self, amount):\n",
        "        if amount <= self.limit and self.__balance - amount > 0:\n",
        "          amount = input('enter the amount')\n",
        "          self.__balance -= amount\n",
        "\n",
        "\n",
        "        else:\n",
        "            print('Cannot withdraw')\n",
        "\n",
        "    def get_withdraw(self,amount):\n",
        "      return self.__withdraw\n",
        "\n",
        "    def deposit(self, amount):\n",
        "        self.__balance += amount\n",
        "\n",
        "    def get_balance(self):\n",
        "        return self.__balance\n",
        "\n"
      ]
    },
    {
      "cell_type": "code",
      "source": [
        "obj = Banking(100,1000)\n",
        "amount = 10\n",
        "obj.get_withdraw(amount)\n",
        "\n",
        "\n",
        "obj.get()   #__balance is private but we use get()\n",
        "\n",
        "\n",
        "\n"
      ],
      "metadata": {
        "colab": {
          "base_uri": "https://localhost:8080/"
        },
        "id": "kYpNEOw-TThP",
        "outputId": "e0705a09-3400-4b5a-95b2-4cbc5feddc2e"
      },
      "execution_count": null,
      "outputs": [
        {
          "output_type": "execute_result",
          "data": {
            "text/plain": [
              "100"
            ]
          },
          "metadata": {},
          "execution_count": 11
        }
      ]
    },
    {
      "cell_type": "markdown",
      "source": [
        "# QUESTION-6\n",
        "\n",
        " Public:\n",
        " * In Python, all attributes and methods are technically public by default.\n",
        " * This means that they can be accessed and modified from outside the class. However, the convention in Python is to prefix attributes and methods intended for public use with a single underscore (_).\n",
        " * This serves as a signal to other developers that these elements are part of the public interface of the class and can be used safely. For example:"
      ],
      "metadata": {
        "id": "LEMGaa2ZOwMz"
      }
    },
    {
      "cell_type": "code",
      "source": [
        "class MyClass:\n",
        "    def __init__(self):\n",
        "        self._public_attribute = 42\n",
        "\n",
        "    def public_method(self):\n",
        "        return \"This is a public method\"\\\n",
        "\n",
        "\n",
        "# creating objects\n",
        "obj =  MyClass()\n",
        "obj.public_method()\n",
        "\n",
        "# we can change in method(public_method)\n",
        "obj.name = 'functionUP'\n",
        "\n",
        "\n",
        "obj.name"
      ],
      "metadata": {
        "colab": {
          "base_uri": "https://localhost:8080/",
          "height": 35
        },
        "id": "7WKRSQQQODSX",
        "outputId": "742eeeb0-2cc0-4a01-b0f6-bddbe09f1a1c"
      },
      "execution_count": null,
      "outputs": [
        {
          "output_type": "execute_result",
          "data": {
            "text/plain": [
              "'functionUP'"
            ],
            "application/vnd.google.colaboratory.intrinsic+json": {
              "type": "string"
            }
          },
          "metadata": {},
          "execution_count": 6
        }
      ]
    },
    {
      "cell_type": "markdown",
      "source": [
        "Private:\n",
        "* While Python does not enforce true private members like some other languages,\n",
        "* it provides a convention to denote private attributes and methods by prefixing them with double underscores (__).\n",
        "*  This signals to other developers that these elements are intended for internal use only and should not be accessed directly from outside the class.\n",
        "* in private method we can use `getter and setter function` to assess and set the values in function for user\n",
        "* Python actually performs name mangling on attributes and methods prefixed with double underscores, effectively making them harder to access from outside the class. However, they can still be accessed if needed, albeit with a bit of effort. For example:\n",
        "\n"
      ],
      "metadata": {
        "id": "fHYJ5DA2RFr7"
      }
    },
    {
      "cell_type": "code",
      "source": [
        "class MyClass:\n",
        "    def __init__(self):\n",
        "        self.__private_attribute = 10\n",
        "\n",
        "    def __private_method(self):\n",
        "        return \"This is a private method\"\n",
        "\n",
        "\n",
        "# creating objects\n",
        "obj1 = MyClass()\n",
        "obj.public_method()\n",
        "obj.public_method = 12\n",
        "obj.public_method()   #show error"
      ],
      "metadata": {
        "id": "NS_ARqCWRgGc"
      },
      "execution_count": null,
      "outputs": []
    },
    {
      "cell_type": "markdown",
      "source": [
        "Protected:\n",
        "* we can protected attributes and methods with a single underscore (_)as prexing .\n",
        "* This indicates to other developers that these elements are intended for internal use within the class and its subclasses.\n",
        "*  Python does not enforce protection of these elements, the convention helps to communicate intent and encourages developers to treat them as semi-private. For example:"
      ],
      "metadata": {
        "id": "9dKKp-luSkKL"
      }
    },
    {
      "cell_type": "code",
      "source": [
        "class MyBaseClass:\n",
        "    def __init__(self):\n",
        "        self._protected_attribute = 100\n",
        "\n",
        "    def _protected_method(self):\n",
        "        return \"This is a protected method\"\n",
        "\n",
        "class MySubClass(MyBaseClass):\n",
        "    def __init__(self):\n",
        "        super().__init__()\n",
        "\n",
        "    def access_protected(self):\n",
        "        return self._protected_method() + \" \" + str(self._protected_attribute)\n",
        "\n"
      ],
      "metadata": {
        "id": "O7xW7xOSTFZ2"
      },
      "execution_count": null,
      "outputs": []
    },
    {
      "cell_type": "markdown",
      "source": [
        "# QUESTION-7\n",
        "\n",
        "**Data Hiding/Data Privating**\n",
        "\n",
        "* Encapsulation allows you `to hide/private the implementation details of a class from the outside world.`\n",
        "* This is achieved by` marking certain attributes or methods as private,` which prevents direct access from outside the class"
      ],
      "metadata": {
        "id": "zcL-5aVnNe6d"
      }
    },
    {
      "cell_type": "code",
      "source": [
        "class MyClass:\n",
        "    def __init__(self):\n",
        "        self.__private_attribute = 42\n",
        "\n",
        "    def __private_method(self):\n",
        "        print(\"This is a private method\")\n",
        "\n",
        "obj = MyClass()\n",
        "print(obj.__private_attribute)  # This will raise an error\n",
        "obj.__private_method()           # This will raise an error\n"
      ],
      "metadata": {
        "id": "_NHtVINqPBZk"
      },
      "execution_count": null,
      "outputs": []
    },
    {
      "cell_type": "markdown",
      "source": [
        "**Abstraction:**\n",
        "\n",
        "* Encapsulation also promotes abstraction by allowing you to expose a simplified interface to the outside world while hiding complex implementation details."
      ],
      "metadata": {
        "id": "TyhtYpUNPhQq"
      }
    },
    {
      "cell_type": "code",
      "source": [
        "# creatingh  class\n",
        "class BankAccount:\n",
        "    def __init__(self, balance=0):\n",
        "        self.balance = balance\n",
        "\n",
        "    def deposit(self, amount):\n",
        "        self.balance += amount\n",
        "\n",
        "    def withdraw(self, amount):\n",
        "        if amount <= self.balance:\n",
        "            self.balance -= amount\n",
        "        else:\n",
        "            print(\"Insufficient funds\")\n",
        "\n",
        "    def get_balance(self):\n",
        "        return self.balance\n",
        "# objects\n",
        "account = BankAccount(1000)\n",
        "account.deposit(500)\n",
        "account.withdraw(200)\n",
        "print(account.get_balance())  # Output: 1300\n"
      ],
      "metadata": {
        "colab": {
          "base_uri": "https://localhost:8080/"
        },
        "id": "2xz1p4DePgvD",
        "outputId": "6c59bb4b-b907-4739-8abe-5e61f36a28aa"
      },
      "execution_count": null,
      "outputs": [
        {
          "output_type": "stream",
          "name": "stdout",
          "text": [
            "1300\n"
          ]
        }
      ]
    },
    {
      "cell_type": "markdown",
      "source": [
        "# QUESTION-8"
      ],
      "metadata": {
        "id": "V_4Fu_g4T1yt"
      }
    },
    {
      "cell_type": "code",
      "source": [
        "class BankAccount:\n",
        "    def __init__(self, account_number, balance):\n",
        "        self._account_number = account_number\n",
        "        self._balance = balance\n",
        "\n",
        "    def deposit(self, amount):\n",
        "        if amount > 0:\n",
        "            self._balance += amount\n",
        "            print(f\"Deposited {amount} into account {self._account_number}\")\n",
        "        else:\n",
        "            print(\"Invalid deposit amount\")\n",
        "\n",
        "    def withdraw(self, amount):\n",
        "        if 0 < amount <= self._balance:\n",
        "            self._balance -= amount\n",
        "            print(f\"Withdrew {amount} from account {self._account_number}\")\n",
        "        else:\n",
        "            print(\"Insufficient funds or invalid withdrawal amount\")\n",
        "\n",
        "    def get_balance(self):\n",
        "        return self._balance\n",
        "\n",
        "    def get_account_number(self):\n",
        "        return self._account_number\n",
        "\n",
        "\n",
        "# Creating instances of BankAccount\n",
        "account1 = BankAccount(\"123456789\", 1000)\n",
        "account2 = BankAccount(\"987654321\", 500)\n",
        "\n",
        "# Trying to access balance directly\n",
        "print(\"Balance of account 1:\", account1._balance)  # Not recommended, but possible\n",
        "\n",
        "# Accessing balance using public method\n",
        "print(\"Balance of account 1:\", account1.get_balance())\n",
        "\n",
        "# Depositing and withdrawing\n",
        "account1.deposit(500)\n",
        "account1.withdraw(200)\n",
        "\n",
        "# Trying to access account number directly\n",
        "print(\"Account number of account 2:\", account2._account_number)  # Not recommended, but possible\n",
        "\n",
        "# Accessing account number using public method\n",
        "print(\"Account number of account 2:\", account2.get_account_number())\n",
        "\n"
      ],
      "metadata": {
        "colab": {
          "base_uri": "https://localhost:8080/"
        },
        "id": "Ofo7ZZXuT5V3",
        "outputId": "5bb6677b-58ba-4f34-e6e8-e6d89a637f62"
      },
      "execution_count": null,
      "outputs": [
        {
          "output_type": "stream",
          "name": "stdout",
          "text": [
            "Balance of account 1: 1000\n",
            "Balance of account 1: 1000\n",
            "Deposited 500 into account 123456789\n",
            "Withdrew 200 from account 123456789\n",
            "Account number of account 2: 987654321\n",
            "Account number of account 2: 987654321\n"
          ]
        }
      ]
    },
    {
      "cell_type": "markdown",
      "source": [
        "**demonstrating**\n",
        "\n",
        "* `BankAccount class` represents  account, private attributes (_account_number and _balance).\n",
        "\n",
        "* `Public methods deposit() and withdraw()` are provided to interact with the account balance.\n",
        "\n",
        "* `The method _display_balance()` is marked as private using the single underscore convention, indicating that it's meant for internal use only.\n",
        "\n"
      ],
      "metadata": {
        "id": "SyKiOQ_bV4rx"
      }
    },
    {
      "cell_type": "markdown",
      "source": [
        "# QUESTION-9\n",
        "\n",
        "**INHERITANCE**\n",
        "\n",
        "* A` Class's Object` can assess Everthing in the same Class,\n",
        "\n",
        "* When we inheriate the two classess to each other then the Object of inheriated class can assess everthing(`not only child's arrtibutes,methods, but also paraent'class arributes,methods`)\n",
        "* i.e Inheritance allows us to define a class that inherits all the methods and properties from another class."
      ],
      "metadata": {
        "id": "kAX9rxLLWD-V"
      }
    },
    {
      "cell_type": "code",
      "source": [
        "# parent\n",
        "class User:\n",
        "\n",
        "  def __init__(self):\n",
        "    self.name = 'Virat kholi'\n",
        "    self.gender = 'male'\n",
        "\n",
        "  def login(self):\n",
        "    print('login')\n",
        "\n",
        "# child\n",
        "class Student(User):\n",
        "\n",
        "\n",
        "\n",
        "\n",
        "\n",
        "  def enroll(self):\n",
        "    print('enroll into the course')\n",
        "\n",
        "u = User()\n",
        "s = Student()\n",
        "\n",
        "print(s.name)\n",
        "s.login()\n",
        "s.enroll()"
      ],
      "metadata": {
        "colab": {
          "base_uri": "https://localhost:8080/"
        },
        "id": "a7BykDKWEK9w",
        "outputId": "3ac97bf2-1567-4f74-f8ca-3b6913980f8b"
      },
      "execution_count": null,
      "outputs": [
        {
          "output_type": "stream",
          "name": "stdout",
          "text": [
            "Virat kholi\n",
            "login\n",
            "enroll into the course\n"
          ]
        }
      ]
    },
    {
      "cell_type": "markdown",
      "source": [
        "**why is it an important feature of object-oriented programming** ?\n",
        "\n",
        "` there are some Reason why inheritance is important in coding`\n",
        "\n",
        "\n",
        " * **Code Reusability:** --     Inheritance promotes code reusability by allowing classes to inherit common attributes and methods from a superclass.\n",
        "\n",
        " * **Modularity:**--- Inheritance enhances modularity by organizing classes into a hierarchical structure based on their relationships\n",
        "\n",
        "\n",
        " * **Extensibility:**-- Inheritance facilitates extensibility by allowing new classes to be created based on existing ones.\n"
      ],
      "metadata": {
        "id": "U9Z8nwUeFVk0"
      }
    },
    {
      "cell_type": "markdown",
      "source": [
        "# QUESTION -10\n",
        "\n",
        "\n",
        "`The key difference between single inheritance and multiple inheritance`\n",
        "\n",
        "\n",
        "\n",
        "**Single Inheritance:**\n",
        "\n",
        "* In single inheritance, a child class inherits from only one parent class.\n",
        "* This means that the child class extends the functionality of a single base class.\n",
        "* Single inheritance results in a linear hierarchy, where each class has only one immediate superclass.\n",
        "\n",
        "\n"
      ],
      "metadata": {
        "id": "viXeWKv3G6_9"
      }
    },
    {
      "cell_type": "code",
      "source": [
        "class Parent:\n",
        "    def method1(self):\n",
        "        print(\"Method 1 from Parent\")\n",
        "\n",
        "class Child(Parent):\n",
        "    def method2(self):\n",
        "        print(\"Method 2 from Child\")\n"
      ],
      "metadata": {
        "id": "n_B88hLFXebO"
      },
      "execution_count": null,
      "outputs": []
    },
    {
      "cell_type": "markdown",
      "source": [
        "**Multiple Inheritance:**\n",
        "\n",
        "* In multiple inheritance, a child class can inherit from multiple parent classes.\n",
        "* This allows the child class to combine and inherit functionality from multiple base classes.\n",
        "* Multiple inheritance can lead to a more complex class hierarchy, where a class has more than one immediate superclass."
      ],
      "metadata": {
        "id": "iHfsQIyoXh0b"
      }
    },
    {
      "cell_type": "code",
      "source": [
        "class Parent1:\n",
        "    def method1(self):\n",
        "        print(\"Method 1 from Parent1\")\n",
        "\n",
        "class Parent2:\n",
        "    def method2(self):\n",
        "        print(\"Method 2 from Parent2\")\n",
        "\n",
        "class Child(Parent1, Parent2):\n",
        "    def method3(self):\n",
        "        print(\"Method 3 from Child\")\n"
      ],
      "metadata": {
        "id": "XteL-JtQXqmD"
      },
      "execution_count": null,
      "outputs": []
    }
  ]
}